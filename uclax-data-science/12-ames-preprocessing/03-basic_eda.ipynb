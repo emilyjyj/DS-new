{
 "cells": [
  {
   "cell_type": "markdown",
   "metadata": {},
   "source": [
    "## Basic EDA"
   ]
  },
  {
   "cell_type": "markdown",
   "metadata": {},
   "source": [
    "In this notebook, we perform basic data analysis for our dataset. This mostly consists of preparing distribution plots for the numerical features. We also begin to explore the technique of preparing distribution plots for numerical features separated by a categorical feature."
   ]
  },
  {
   "cell_type": "code",
   "execution_count": null,
   "metadata": {},
   "outputs": [],
   "source": [
    "source('src/load_data-02.r')\n",
    "source('src/multiplot.r')"
   ]
  },
  {
   "cell_type": "code",
   "execution_count": null,
   "metadata": {},
   "outputs": [],
   "source": [
    "dim(housing_df)"
   ]
  },
  {
   "cell_type": "code",
   "execution_count": null,
   "metadata": {},
   "outputs": [],
   "source": [
    "head(housing_df)"
   ]
  },
  {
   "cell_type": "code",
   "execution_count": null,
   "metadata": {},
   "outputs": [],
   "source": [
    "count_empty_total()"
   ]
  },
  {
   "cell_type": "code",
   "execution_count": null,
   "metadata": {},
   "outputs": [],
   "source": [
    "str(Filter(is.numeric, housing_df))"
   ]
  },
  {
   "cell_type": "code",
   "execution_count": null,
   "metadata": {},
   "outputs": [],
   "source": [
    "colnames(Filter(is.numeric, housing_df))"
   ]
  },
  {
   "cell_type": "code",
   "execution_count": null,
   "metadata": {},
   "outputs": [],
   "source": [
    "attach(housing_df)"
   ]
  },
  {
   "cell_type": "code",
   "execution_count": null,
   "metadata": {},
   "outputs": [],
   "source": [
    "library(ggplot2)"
   ]
  },
  {
   "cell_type": "markdown",
   "metadata": {},
   "source": [
    "### Histogram of Target Feature"
   ]
  },
  {
   "cell_type": "markdown",
   "metadata": {},
   "source": [
    "Here, we display a histogram of the target feature `SalePrice`. We have also included a kernel density estimation (KDE) and the mean and median values plotted as vertical lines. The mean greater than the median signifies a right or positive skew, common with strictly non-negative data."
   ]
  },
  {
   "cell_type": "code",
   "execution_count": null,
   "metadata": {},
   "outputs": [],
   "source": [
    "hist_with_kde <- function (feature) {\n",
    "    plot <- qplot(feature, geom=\"histogram\", bins=200, alpha=I(.4), y = ..density..)+\n",
    "        geom_vline(aes(xintercept=mean(feature, rm.na=T), color=\"mean\"), linetype=\"dashed\", size=1, show.legend=TRUE)+\n",
    "        geom_vline(aes(xintercept=median(feature), color=\"median\"), linetype=\"dashed\", size=1, show.legend=TRUE)+\n",
    "        geom_density()+\n",
    "        scale_color_manual(\"Line.Color\", values=c(median=\"red\",mean=\"blue\"))\n",
    "    return(plot)\n",
    "}"
   ]
  },
  {
   "cell_type": "code",
   "execution_count": null,
   "metadata": {},
   "outputs": [],
   "source": [
    "hist_with_kde(SalePrice)"
   ]
  },
  {
   "cell_type": "markdown",
   "metadata": {},
   "source": [
    "#### Plot some Histograms with KDE Plots for other Numerical Features"
   ]
  },
  {
   "cell_type": "markdown",
   "metadata": {},
   "source": [
    "Next we plot histograms with KDE plots for some of the other numerical features in our dataset."
   ]
  },
  {
   "cell_type": "code",
   "execution_count": null,
   "metadata": {},
   "outputs": [],
   "source": [
    "colnames(Filter(is.numeric, housing_df))"
   ]
  },
  {
   "cell_type": "markdown",
   "metadata": {},
   "source": [
    "We make use of a special function called `multiplot` that is included in the file `src/multiplot.r`."
   ]
  },
  {
   "cell_type": "code",
   "execution_count": null,
   "metadata": {},
   "outputs": [],
   "source": [
    "library(repr)\n",
    "options(repr.plot.width=20, repr.plot.height=4)"
   ]
  },
  {
   "cell_type": "code",
   "execution_count": null,
   "metadata": {},
   "outputs": [],
   "source": [
    "multiplot(hist_with_kde(LotFrontage),\n",
    "          hist_with_kde(LotArea), \n",
    "          hist_with_kde(FirstFlrSF),\n",
    "          hist_with_kde(SecondFlrSF),\n",
    "          cols = 4)\n",
    "multiplot(hist_with_kde(PoolArea),\n",
    "          hist_with_kde(YrSold), \n",
    "          hist_with_kde(GarageArea),\n",
    "          hist_with_kde(LowQualFinSF),\n",
    "          cols = 4)\n"
   ]
  },
  {
   "cell_type": "markdown",
   "metadata": {},
   "source": [
    "## Correlation"
   ]
  },
  {
   "cell_type": "markdown",
   "metadata": {},
   "source": [
    "Assessing correlation in a data set with mixed numerical and categorical features can be challenging. One way to perform such an analysis is to prepare a series of distribution plots for a single numerical feature each distribution plot corresponds to the values for the numerical feature for a given attribute of a categorical feature.\n",
    "\n",
    "Here is a list of our categorical features:\n",
    "\n",
    "| | | |\n",
    "|:-:|:-:|:-:|\n",
    "| `Alley`         | `ExterCond`     | `GarageType`    | `MSSubClass`    |        \n",
    "| `BedroomAbvGr`  | `Exterior1st`   | `HalfBath`      | `MSZoning`      |                         \n",
    "| `BldgType`      | `Exterior2nd`   | `Heating`       | `Neighborhood`  |                          \n",
    "| `BsmtCond`      | `ExterQual`     | `HeatingQC`     | `OverallCond`   |                         \n",
    "| `BsmtExposure`  | `Fence`         | `HouseStyle`    | `OverallQual`   |                             \n",
    "| `BsmtFinType1`  | `FireplaceQu`   | `KitchenAbvGr`  | `PavedDrive`    |                           \n",
    "| `BsmtFinType2`  | `Fireplaces`    | `KitchenQual`   | `PoolQC`        |                      \n",
    "| `BsmtFullBath`  | `Foundation`    | `LandContour`   | `RoofMatl`      |                         \n",
    "| `BsmtHalfBath`  | `FullBath`      | `LandSlope`     | `RoofStyle`     |                          \n",
    "| `BsmtQual`      | `Functional`    | `LotConfig`     | `SaleCondition` |                          \n",
    "| `CentralAir`    | `GarageCars`    | `LotShape`      | `SaleType`      |                      \n",
    "| `Condition1`    | `GarageCond`    | `MasVnrType`    | `Street`        |                      \n",
    "| `Condition2`    | `GarageFinish`  | `MiscFeature`   | `TotRmsAbvGrd`  |                           \n",
    "| `Electrical`    | `GarageQual`    | `MoSold`        | `Utilities`     |    "
   ]
  },
  {
   "cell_type": "markdown",
   "metadata": {},
   "source": [
    "We can begin by looking at the distribution of `SalePrice` disaggregated by any one of these categorical features."
   ]
  },
  {
   "cell_type": "code",
   "execution_count": null,
   "metadata": {},
   "outputs": [],
   "source": [
    "hist_with_kde_numerical_by_category(SalePrice, BldgType)"
   ]
  },
  {
   "cell_type": "markdown",
   "metadata": {},
   "source": [
    "It may even make sense to treat one of the numerical features as a categorical feature, for example, `YrSold`."
   ]
  },
  {
   "cell_type": "code",
   "execution_count": null,
   "metadata": {},
   "outputs": [],
   "source": [
    "hist_with_kde_numerical_by_category(SalePrice, as.factor(YrSold))"
   ]
  },
  {
   "cell_type": "markdown",
   "metadata": {},
   "source": [
    "This plot shows that, for this dataset, the year of the sale has nearly no impact on the `SalePrice`. Note that `SalePrice` has a nearly identical distribution for all five years in the dataset."
   ]
  },
  {
   "cell_type": "code",
   "execution_count": null,
   "metadata": {},
   "outputs": [],
   "source": [
    "multiplot(hist_with_kde_numerical_by_category(SalePrice,HouseStyle),\n",
    "          hist_with_kde_numerical_by_category(SalePrice,ExterQual), \n",
    "          hist_with_kde_numerical_by_category(SalePrice,Street),\n",
    "          hist_with_kde_numerical_by_category(SalePrice,MoSold),\n",
    "          cols = 4)"
   ]
  },
  {
   "cell_type": "markdown",
   "metadata": {},
   "source": [
    "Here, we see that `HouseStyle`, `ExterQual`, and `Street` all have some impact on `SalePrice`, while `MoSold` does not."
   ]
  },
  {
   "cell_type": "markdown",
   "metadata": {},
   "source": [
    "Another way to analyze the influence of a categorical feature it is to create a scatter plot of two numerical features, colored by a categorical feature."
   ]
  },
  {
   "cell_type": "code",
   "execution_count": null,
   "metadata": {},
   "outputs": [],
   "source": [
    "ggplot(housing_df)+\n",
    "   geom_point(aes(x=GrLivArea,y=SalePrice,colour=MSSubClass))"
   ]
  },
  {
   "cell_type": "code",
   "execution_count": null,
   "metadata": {},
   "outputs": [],
   "source": []
  }
 ],
 "metadata": {
  "kernelspec": {
   "display_name": "R",
   "language": "R",
   "name": "ir"
  },
  "language_info": {
   "codemirror_mode": "r",
   "file_extension": ".r",
   "mimetype": "text/x-r-source",
   "name": "R",
   "pygments_lexer": "r",
   "version": "3.4.1"
  }
 },
 "nbformat": 4,
 "nbformat_minor": 2
}
