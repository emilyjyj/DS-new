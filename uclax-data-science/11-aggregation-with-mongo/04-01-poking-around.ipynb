{
 "cells": [
  {
   "cell_type": "code",
   "execution_count": 1,
   "metadata": {},
   "outputs": [
    {
     "name": "stdout",
     "output_type": "stream",
     "text": [
      "Requirement already satisfied: pymongo in /opt/conda/lib/python3.6/site-packages\n",
      "\u001b[33mYou are using pip version 9.0.1, however version 10.0.1 is available.\n",
      "You should consider upgrading via the 'pip install --upgrade pip' command.\u001b[0m\n"
     ]
    }
   ],
   "source": [
    "!pip install pymongo"
   ]
  },
  {
   "cell_type": "code",
   "execution_count": 2,
   "metadata": {},
   "outputs": [],
   "source": [
    "from pymongo import MongoClient"
   ]
  },
  {
   "cell_type": "code",
   "execution_count": 3,
   "metadata": {},
   "outputs": [],
   "source": [
    "mongo_client = MongoClient('18.236.138.158', 27016)\n",
    "database_reference = mongo_client.twitter\n",
    "collection_reference = database_reference.tweets"
   ]
  },
  {
   "cell_type": "code",
   "execution_count": 4,
   "metadata": {},
   "outputs": [],
   "source": [
    "cursor = collection_reference.find()"
   ]
  },
  {
   "cell_type": "code",
   "execution_count": 5,
   "metadata": {},
   "outputs": [
    {
     "data": {
      "text/plain": [
       "2157100"
      ]
     },
     "execution_count": 5,
     "metadata": {},
     "output_type": "execute_result"
    }
   ],
   "source": [
    "cursor.count()"
   ]
  },
  {
   "cell_type": "code",
   "execution_count": 6,
   "metadata": {},
   "outputs": [],
   "source": [
    "cursor_sampl = collection_reference.aggregate([{'$sample': {'size': 20}}])"
   ]
  },
  {
   "cell_type": "code",
   "execution_count": 12,
   "metadata": {},
   "outputs": [
    {
     "data": {
      "text/plain": [
       "[0, 1, 2, 3, 4]"
      ]
     },
     "execution_count": 12,
     "metadata": {},
     "output_type": "execute_result"
    }
   ],
   "source": [
    "list(range(5))"
   ]
  },
  {
   "cell_type": "code",
   "execution_count": 11,
   "metadata": {},
   "outputs": [
    {
     "data": {
      "text/plain": [
       "[]"
      ]
     },
     "execution_count": 11,
     "metadata": {},
     "output_type": "execute_result"
    }
   ],
   "source": [
    "list(cursor_sampl)"
   ]
  },
  {
   "cell_type": "code",
   "execution_count": 7,
   "metadata": {},
   "outputs": [
    {
     "data": {
      "text/plain": [
       "20"
      ]
     },
     "execution_count": 7,
     "metadata": {},
     "output_type": "execute_result"
    }
   ],
   "source": [
    "len(list(cursor_sampl)) "
   ]
  },
  {
   "cell_type": "code",
   "execution_count": 13,
   "metadata": {},
   "outputs": [
    {
     "ename": "StopIteration",
     "evalue": "",
     "output_type": "error",
     "traceback": [
      "\u001b[0;31m---------------------------------------------------------------------------\u001b[0m",
      "\u001b[0;31mStopIteration\u001b[0m                             Traceback (most recent call last)",
      "\u001b[0;32m<ipython-input-13-96be4d43b38c>\u001b[0m in \u001b[0;36m<module>\u001b[0;34m()\u001b[0m\n\u001b[0;32m----> 1\u001b[0;31m \u001b[0mnext\u001b[0m\u001b[0;34m(\u001b[0m\u001b[0mcursor_sampl\u001b[0m\u001b[0;34m)\u001b[0m\u001b[0;34m\u001b[0m\u001b[0m\n\u001b[0m",
      "\u001b[0;32m/opt/conda/lib/python3.6/site-packages/pymongo/command_cursor.py\u001b[0m in \u001b[0;36mnext\u001b[0;34m(self)\u001b[0m\n\u001b[1;32m    290\u001b[0m             \u001b[0;32mreturn\u001b[0m \u001b[0mcoll\u001b[0m\u001b[0;34m.\u001b[0m\u001b[0mdatabase\u001b[0m\u001b[0;34m.\u001b[0m\u001b[0m_fix_outgoing\u001b[0m\u001b[0;34m(\u001b[0m\u001b[0mself\u001b[0m\u001b[0;34m.\u001b[0m\u001b[0m__data\u001b[0m\u001b[0;34m.\u001b[0m\u001b[0mpopleft\u001b[0m\u001b[0;34m(\u001b[0m\u001b[0;34m)\u001b[0m\u001b[0;34m,\u001b[0m \u001b[0mcoll\u001b[0m\u001b[0;34m)\u001b[0m\u001b[0;34m\u001b[0m\u001b[0m\n\u001b[1;32m    291\u001b[0m         \u001b[0;32melse\u001b[0m\u001b[0;34m:\u001b[0m\u001b[0;34m\u001b[0m\u001b[0m\n\u001b[0;32m--> 292\u001b[0;31m             \u001b[0;32mraise\u001b[0m \u001b[0mStopIteration\u001b[0m\u001b[0;34m\u001b[0m\u001b[0m\n\u001b[0m\u001b[1;32m    293\u001b[0m \u001b[0;34m\u001b[0m\u001b[0m\n\u001b[1;32m    294\u001b[0m     \u001b[0m__next__\u001b[0m \u001b[0;34m=\u001b[0m \u001b[0mnext\u001b[0m\u001b[0;34m\u001b[0m\u001b[0m\n",
      "\u001b[0;31mStopIteration\u001b[0m: "
     ]
    }
   ],
   "source": [
    "next(cursor_sampl)"
   ]
  },
  {
   "cell_type": "code",
   "execution_count": 14,
   "metadata": {},
   "outputs": [],
   "source": [
    "cursor_sampl = collection_reference.aggregate([{'$sample': {'size': 1}}])"
   ]
  },
  {
   "cell_type": "code",
   "execution_count": 15,
   "metadata": {},
   "outputs": [],
   "source": [
    "tw = next(cursor_sampl)"
   ]
  },
  {
   "cell_type": "code",
   "execution_count": 16,
   "metadata": {},
   "outputs": [
    {
     "data": {
      "text/plain": [
       "dict_keys(['_id', 'created_at', 'id', 'id_str', 'text', 'display_text_range', 'source', 'truncated', 'in_reply_to_status_id', 'in_reply_to_status_id_str', 'in_reply_to_user_id', 'in_reply_to_user_id_str', 'in_reply_to_screen_name', 'user', 'geo', 'coordinates', 'place', 'contributors', 'is_quote_status', 'quote_count', 'reply_count', 'retweet_count', 'favorite_count', 'entities', 'favorited', 'retweeted', 'filter_level', 'lang', 'timestamp_ms', 'user_processed'])"
      ]
     },
     "execution_count": 16,
     "metadata": {},
     "output_type": "execute_result"
    }
   ],
   "source": [
    "tw.keys()"
   ]
  },
  {
   "cell_type": "code",
   "execution_count": 17,
   "metadata": {},
   "outputs": [
    {
     "data": {
      "text/plain": [
       "[ObjectId('5a62639936dd5f00016251b0'),\n",
       " 'Fri Jan 19 21:31:05 +0000 2018',\n",
       " 954466264520380416,\n",
       " '954466264520380416',\n",
       " '@withlovedaisy 😂😂😂😂😂']"
      ]
     },
     "execution_count": 17,
     "metadata": {},
     "output_type": "execute_result"
    }
   ],
   "source": [
    "list(tw.values())[:5]"
   ]
  },
  {
   "cell_type": "code",
   "execution_count": 18,
   "metadata": {},
   "outputs": [],
   "source": [
    "import pandas as pd"
   ]
  },
  {
   "cell_type": "code",
   "execution_count": 19,
   "metadata": {},
   "outputs": [],
   "source": [
    "tw_sample_df = pd.DataFrame(list(collection_reference.aggregate([{'$sample': {'size': 5}}])))"
   ]
  },
  {
   "cell_type": "code",
   "execution_count": 20,
   "metadata": {},
   "outputs": [
    {
     "data": {
      "text/plain": [
       "_id                           object\n",
       "contributors                  object\n",
       "coordinates                   object\n",
       "created_at                    object\n",
       "display_text_range            object\n",
       "entities                      object\n",
       "extended_entities             object\n",
       "favorite_count                 int64\n",
       "favorited                       bool\n",
       "filter_level                  object\n",
       "geo                           object\n",
       "id                             int64\n",
       "id_str                        object\n",
       "in_reply_to_screen_name       object\n",
       "in_reply_to_status_id        float64\n",
       "in_reply_to_status_id_str     object\n",
       "in_reply_to_user_id          float64\n",
       "in_reply_to_user_id_str       object\n",
       "is_quote_status                 bool\n",
       "lang                          object\n",
       "place                         object\n",
       "possibly_sensitive            object\n",
       "quote_count                    int64\n",
       "quoted_status                 object\n",
       "quoted_status_id             float64\n",
       "quoted_status_id_str          object\n",
       "reply_count                    int64\n",
       "retweet_count                  int64\n",
       "retweeted                       bool\n",
       "source                        object\n",
       "text                          object\n",
       "timestamp_ms                  object\n",
       "truncated                       bool\n",
       "user                          object\n",
       "user_processed                object\n",
       "dtype: object"
      ]
     },
     "execution_count": 20,
     "metadata": {},
     "output_type": "execute_result"
    }
   ],
   "source": [
    "tw_sample_df.dtypes"
   ]
  },
  {
   "cell_type": "code",
   "execution_count": 21,
   "metadata": {},
   "outputs": [
    {
     "data": {
      "text/html": [
       "<div>\n",
       "<table border=\"1\" class=\"dataframe\">\n",
       "  <thead>\n",
       "    <tr style=\"text-align: right;\">\n",
       "      <th></th>\n",
       "      <th>favorite_count</th>\n",
       "      <th>id</th>\n",
       "      <th>quote_count</th>\n",
       "      <th>reply_count</th>\n",
       "      <th>retweet_count</th>\n",
       "    </tr>\n",
       "  </thead>\n",
       "  <tbody>\n",
       "    <tr>\n",
       "      <th>0</th>\n",
       "      <td>0</td>\n",
       "      <td>954348872469393412</td>\n",
       "      <td>0</td>\n",
       "      <td>0</td>\n",
       "      <td>0</td>\n",
       "    </tr>\n",
       "    <tr>\n",
       "      <th>1</th>\n",
       "      <td>0</td>\n",
       "      <td>960764184064540672</td>\n",
       "      <td>0</td>\n",
       "      <td>0</td>\n",
       "      <td>0</td>\n",
       "    </tr>\n",
       "    <tr>\n",
       "      <th>2</th>\n",
       "      <td>0</td>\n",
       "      <td>951849721185714176</td>\n",
       "      <td>0</td>\n",
       "      <td>0</td>\n",
       "      <td>0</td>\n",
       "    </tr>\n",
       "    <tr>\n",
       "      <th>3</th>\n",
       "      <td>0</td>\n",
       "      <td>954906547938672640</td>\n",
       "      <td>0</td>\n",
       "      <td>0</td>\n",
       "      <td>0</td>\n",
       "    </tr>\n",
       "    <tr>\n",
       "      <th>4</th>\n",
       "      <td>0</td>\n",
       "      <td>950473316082438144</td>\n",
       "      <td>0</td>\n",
       "      <td>0</td>\n",
       "      <td>0</td>\n",
       "    </tr>\n",
       "  </tbody>\n",
       "</table>\n",
       "</div>"
      ],
      "text/plain": [
       "   favorite_count                  id  quote_count  reply_count  retweet_count\n",
       "0               0  954348872469393412            0            0              0\n",
       "1               0  960764184064540672            0            0              0\n",
       "2               0  951849721185714176            0            0              0\n",
       "3               0  954906547938672640            0            0              0\n",
       "4               0  950473316082438144            0            0              0"
      ]
     },
     "execution_count": 21,
     "metadata": {},
     "output_type": "execute_result"
    }
   ],
   "source": [
    "tw_sample_df.select_dtypes([int])"
   ]
  },
  {
   "cell_type": "code",
   "execution_count": 22,
   "metadata": {},
   "outputs": [
    {
     "data": {
      "text/html": [
       "<div>\n",
       "<table border=\"1\" class=\"dataframe\">\n",
       "  <thead>\n",
       "    <tr style=\"text-align: right;\">\n",
       "      <th></th>\n",
       "      <th>in_reply_to_status_id</th>\n",
       "      <th>in_reply_to_user_id</th>\n",
       "      <th>quoted_status_id</th>\n",
       "    </tr>\n",
       "  </thead>\n",
       "  <tbody>\n",
       "    <tr>\n",
       "      <th>0</th>\n",
       "      <td>NaN</td>\n",
       "      <td>NaN</td>\n",
       "      <td>9.543483e+17</td>\n",
       "    </tr>\n",
       "    <tr>\n",
       "      <th>1</th>\n",
       "      <td>9.607098e+17</td>\n",
       "      <td>7.930312e+17</td>\n",
       "      <td>NaN</td>\n",
       "    </tr>\n",
       "    <tr>\n",
       "      <th>2</th>\n",
       "      <td>9.518263e+17</td>\n",
       "      <td>1.522077e+07</td>\n",
       "      <td>NaN</td>\n",
       "    </tr>\n",
       "    <tr>\n",
       "      <th>3</th>\n",
       "      <td>NaN</td>\n",
       "      <td>NaN</td>\n",
       "      <td>9.548548e+17</td>\n",
       "    </tr>\n",
       "    <tr>\n",
       "      <th>4</th>\n",
       "      <td>NaN</td>\n",
       "      <td>NaN</td>\n",
       "      <td>NaN</td>\n",
       "    </tr>\n",
       "  </tbody>\n",
       "</table>\n",
       "</div>"
      ],
      "text/plain": [
       "   in_reply_to_status_id  in_reply_to_user_id  quoted_status_id\n",
       "0                    NaN                  NaN      9.543483e+17\n",
       "1           9.607098e+17         7.930312e+17               NaN\n",
       "2           9.518263e+17         1.522077e+07               NaN\n",
       "3                    NaN                  NaN      9.548548e+17\n",
       "4                    NaN                  NaN               NaN"
      ]
     },
     "execution_count": 22,
     "metadata": {},
     "output_type": "execute_result"
    }
   ],
   "source": [
    "tw_sample_df.select_dtypes([float])"
   ]
  },
  {
   "cell_type": "code",
   "execution_count": 23,
   "metadata": {
    "scrolled": false
   },
   "outputs": [
    {
     "data": {
      "text/html": [
       "<div>\n",
       "<table border=\"1\" class=\"dataframe\">\n",
       "  <thead>\n",
       "    <tr style=\"text-align: right;\">\n",
       "      <th></th>\n",
       "      <th>_id</th>\n",
       "      <th>contributors</th>\n",
       "      <th>coordinates</th>\n",
       "      <th>created_at</th>\n",
       "      <th>display_text_range</th>\n",
       "      <th>entities</th>\n",
       "      <th>extended_entities</th>\n",
       "      <th>filter_level</th>\n",
       "      <th>geo</th>\n",
       "      <th>id_str</th>\n",
       "      <th>...</th>\n",
       "      <th>lang</th>\n",
       "      <th>place</th>\n",
       "      <th>possibly_sensitive</th>\n",
       "      <th>quoted_status</th>\n",
       "      <th>quoted_status_id_str</th>\n",
       "      <th>source</th>\n",
       "      <th>text</th>\n",
       "      <th>timestamp_ms</th>\n",
       "      <th>user</th>\n",
       "      <th>user_processed</th>\n",
       "    </tr>\n",
       "  </thead>\n",
       "  <tbody>\n",
       "    <tr>\n",
       "      <th>0</th>\n",
       "      <td>5a61f64536dd5f00016207ad</td>\n",
       "      <td>None</td>\n",
       "      <td>None</td>\n",
       "      <td>Fri Jan 19 13:44:36 +0000 2018</td>\n",
       "      <td>[0, 20]</td>\n",
       "      <td>{'hashtags': [{'text': 'CAGOV', 'indices': [14...</td>\n",
       "      <td>NaN</td>\n",
       "      <td>low</td>\n",
       "      <td>None</td>\n",
       "      <td>954348872469393412</td>\n",
       "      <td>...</td>\n",
       "      <td>en</td>\n",
       "      <td>{'id': '3b77caf94bfc81fe', 'url': 'https://api...</td>\n",
       "      <td>False</td>\n",
       "      <td>{'created_at': 'Fri Jan 19 13:42:19 +0000 2018...</td>\n",
       "      <td>954348298332180480</td>\n",
       "      <td>&lt;a href=\"http://twitter.com/download/iphone\" r...</td>\n",
       "      <td>And Nunez for #CAGOV https://t.co/WzMBWX4epb</td>\n",
       "      <td>1516369476798</td>\n",
       "      <td>{'id': 16038334, 'id_str': '16038334', 'name':...</td>\n",
       "      <td>NaN</td>\n",
       "    </tr>\n",
       "    <tr>\n",
       "      <th>1</th>\n",
       "      <td>5a794cfe15ba4c000156e2c1</td>\n",
       "      <td>None</td>\n",
       "      <td>None</td>\n",
       "      <td>Tue Feb 06 06:36:46 +0000 2018</td>\n",
       "      <td>[33, 47]</td>\n",
       "      <td>{'hashtags': [], 'urls': [], 'user_mentions': ...</td>\n",
       "      <td>NaN</td>\n",
       "      <td>low</td>\n",
       "      <td>None</td>\n",
       "      <td>960764184064540672</td>\n",
       "      <td>...</td>\n",
       "      <td>en</td>\n",
       "      <td>{'id': '3b77caf94bfc81fe', 'url': 'https://api...</td>\n",
       "      <td>NaN</td>\n",
       "      <td>NaN</td>\n",
       "      <td>NaN</td>\n",
       "      <td>&lt;a href=\"http://twitter.com/download/iphone\" r...</td>\n",
       "      <td>@BryceTV1 @GroovyTony @__jimmayy 😭😭😭😭😂 too true</td>\n",
       "      <td>1517899006273</td>\n",
       "      <td>{'id': 507588716, 'id_str': '507588716', 'name...</td>\n",
       "      <td>NaN</td>\n",
       "    </tr>\n",
       "    <tr>\n",
       "      <th>2</th>\n",
       "      <td>5a58dec036dd5f00015ca739</td>\n",
       "      <td>None</td>\n",
       "      <td>None</td>\n",
       "      <td>Fri Jan 12 16:13:52 +0000 2018</td>\n",
       "      <td>[13, 32]</td>\n",
       "      <td>{'hashtags': [], 'urls': [], 'user_mentions': ...</td>\n",
       "      <td>NaN</td>\n",
       "      <td>low</td>\n",
       "      <td>None</td>\n",
       "      <td>951849721185714176</td>\n",
       "      <td>...</td>\n",
       "      <td>en</td>\n",
       "      <td>{'id': 'fbd6d2f5a4e4a15e', 'url': 'https://api...</td>\n",
       "      <td>NaN</td>\n",
       "      <td>NaN</td>\n",
       "      <td>NaN</td>\n",
       "      <td>&lt;a href=\"http://twitter.com/download/iphone\" r...</td>\n",
       "      <td>@DavidCornDC Unfortunately, yes.</td>\n",
       "      <td>1515773632700</td>\n",
       "      <td>{'id': 252903764, 'id_str': '252903764', 'name...</td>\n",
       "      <td>NaN</td>\n",
       "    </tr>\n",
       "    <tr>\n",
       "      <th>3</th>\n",
       "      <td>5a63fda536dd5f0001635c27</td>\n",
       "      <td>None</td>\n",
       "      <td>None</td>\n",
       "      <td>Sun Jan 21 02:40:36 +0000 2018</td>\n",
       "      <td>[0, 14]</td>\n",
       "      <td>{'hashtags': [], 'urls': [{'url': 'https://t.c...</td>\n",
       "      <td>NaN</td>\n",
       "      <td>low</td>\n",
       "      <td>None</td>\n",
       "      <td>954906547938672640</td>\n",
       "      <td>...</td>\n",
       "      <td>en</td>\n",
       "      <td>{'id': '3b77caf94bfc81fe', 'url': 'https://api...</td>\n",
       "      <td>False</td>\n",
       "      <td>{'created_at': 'Sat Jan 20 23:15:00 +0000 2018...</td>\n",
       "      <td>954854804337152006</td>\n",
       "      <td>&lt;a href=\"http://twitter.com/download/iphone\" r...</td>\n",
       "      <td>Inspirational! https://t.co/5Y1DBjsrfX</td>\n",
       "      <td>1516502436991</td>\n",
       "      <td>{'id': 3265840946, 'id_str': '3265840946', 'na...</td>\n",
       "      <td>True</td>\n",
       "    </tr>\n",
       "    <tr>\n",
       "      <th>4</th>\n",
       "      <td>5a53dce036dd5f000159a598</td>\n",
       "      <td>None</td>\n",
       "      <td>None</td>\n",
       "      <td>Mon Jan 08 21:04:32 +0000 2018</td>\n",
       "      <td>[0, 116]</td>\n",
       "      <td>{'hashtags': [], 'urls': [], 'user_mentions': ...</td>\n",
       "      <td>{'media': [{'id': 950473308536848384, 'id_str'...</td>\n",
       "      <td>low</td>\n",
       "      <td>None</td>\n",
       "      <td>950473316082438144</td>\n",
       "      <td>...</td>\n",
       "      <td>en</td>\n",
       "      <td>{'id': '3b77caf94bfc81fe', 'url': 'https://api...</td>\n",
       "      <td>False</td>\n",
       "      <td>NaN</td>\n",
       "      <td>NaN</td>\n",
       "      <td>&lt;a href=\"http://twitter.com/download/iphone\" r...</td>\n",
       "      <td>You know you don’t have to be homophobic right...</td>\n",
       "      <td>1515445472151</td>\n",
       "      <td>{'id': 66877234, 'id_str': '66877234', 'name':...</td>\n",
       "      <td>NaN</td>\n",
       "    </tr>\n",
       "  </tbody>\n",
       "</table>\n",
       "<p>5 rows × 23 columns</p>\n",
       "</div>"
      ],
      "text/plain": [
       "                        _id contributors coordinates  \\\n",
       "0  5a61f64536dd5f00016207ad         None        None   \n",
       "1  5a794cfe15ba4c000156e2c1         None        None   \n",
       "2  5a58dec036dd5f00015ca739         None        None   \n",
       "3  5a63fda536dd5f0001635c27         None        None   \n",
       "4  5a53dce036dd5f000159a598         None        None   \n",
       "\n",
       "                       created_at display_text_range  \\\n",
       "0  Fri Jan 19 13:44:36 +0000 2018            [0, 20]   \n",
       "1  Tue Feb 06 06:36:46 +0000 2018           [33, 47]   \n",
       "2  Fri Jan 12 16:13:52 +0000 2018           [13, 32]   \n",
       "3  Sun Jan 21 02:40:36 +0000 2018            [0, 14]   \n",
       "4  Mon Jan 08 21:04:32 +0000 2018           [0, 116]   \n",
       "\n",
       "                                            entities  \\\n",
       "0  {'hashtags': [{'text': 'CAGOV', 'indices': [14...   \n",
       "1  {'hashtags': [], 'urls': [], 'user_mentions': ...   \n",
       "2  {'hashtags': [], 'urls': [], 'user_mentions': ...   \n",
       "3  {'hashtags': [], 'urls': [{'url': 'https://t.c...   \n",
       "4  {'hashtags': [], 'urls': [], 'user_mentions': ...   \n",
       "\n",
       "                                   extended_entities filter_level   geo  \\\n",
       "0                                                NaN          low  None   \n",
       "1                                                NaN          low  None   \n",
       "2                                                NaN          low  None   \n",
       "3                                                NaN          low  None   \n",
       "4  {'media': [{'id': 950473308536848384, 'id_str'...          low  None   \n",
       "\n",
       "               id_str      ...       lang  \\\n",
       "0  954348872469393412      ...         en   \n",
       "1  960764184064540672      ...         en   \n",
       "2  951849721185714176      ...         en   \n",
       "3  954906547938672640      ...         en   \n",
       "4  950473316082438144      ...         en   \n",
       "\n",
       "                                               place possibly_sensitive  \\\n",
       "0  {'id': '3b77caf94bfc81fe', 'url': 'https://api...              False   \n",
       "1  {'id': '3b77caf94bfc81fe', 'url': 'https://api...                NaN   \n",
       "2  {'id': 'fbd6d2f5a4e4a15e', 'url': 'https://api...                NaN   \n",
       "3  {'id': '3b77caf94bfc81fe', 'url': 'https://api...              False   \n",
       "4  {'id': '3b77caf94bfc81fe', 'url': 'https://api...              False   \n",
       "\n",
       "                                       quoted_status quoted_status_id_str  \\\n",
       "0  {'created_at': 'Fri Jan 19 13:42:19 +0000 2018...   954348298332180480   \n",
       "1                                                NaN                  NaN   \n",
       "2                                                NaN                  NaN   \n",
       "3  {'created_at': 'Sat Jan 20 23:15:00 +0000 2018...   954854804337152006   \n",
       "4                                                NaN                  NaN   \n",
       "\n",
       "                                              source  \\\n",
       "0  <a href=\"http://twitter.com/download/iphone\" r...   \n",
       "1  <a href=\"http://twitter.com/download/iphone\" r...   \n",
       "2  <a href=\"http://twitter.com/download/iphone\" r...   \n",
       "3  <a href=\"http://twitter.com/download/iphone\" r...   \n",
       "4  <a href=\"http://twitter.com/download/iphone\" r...   \n",
       "\n",
       "                                                text   timestamp_ms  \\\n",
       "0       And Nunez for #CAGOV https://t.co/WzMBWX4epb  1516369476798   \n",
       "1    @BryceTV1 @GroovyTony @__jimmayy 😭😭😭😭😂 too true  1517899006273   \n",
       "2                   @DavidCornDC Unfortunately, yes.  1515773632700   \n",
       "3             Inspirational! https://t.co/5Y1DBjsrfX  1516502436991   \n",
       "4  You know you don’t have to be homophobic right...  1515445472151   \n",
       "\n",
       "                                                user user_processed  \n",
       "0  {'id': 16038334, 'id_str': '16038334', 'name':...            NaN  \n",
       "1  {'id': 507588716, 'id_str': '507588716', 'name...            NaN  \n",
       "2  {'id': 252903764, 'id_str': '252903764', 'name...            NaN  \n",
       "3  {'id': 3265840946, 'id_str': '3265840946', 'na...           True  \n",
       "4  {'id': 66877234, 'id_str': '66877234', 'name':...            NaN  \n",
       "\n",
       "[5 rows x 23 columns]"
      ]
     },
     "execution_count": 23,
     "metadata": {},
     "output_type": "execute_result"
    }
   ],
   "source": [
    "tw_sample_df.select_dtypes(['object'])"
   ]
  },
  {
   "cell_type": "code",
   "execution_count": 24,
   "metadata": {},
   "outputs": [],
   "source": [
    "cursor_sampl = collection_reference.aggregate([{'$sample': {'size': 1}}])"
   ]
  },
  {
   "cell_type": "code",
   "execution_count": null,
   "metadata": {},
   "outputs": [],
   "source": [
    "tw_sample_df['created_at'] = pd.to_datetime(tw_sample_df['created_at'])"
   ]
  },
  {
   "cell_type": "code",
   "execution_count": null,
   "metadata": {},
   "outputs": [],
   "source": [
    "tw_sample_df"
   ]
  },
  {
   "cell_type": "markdown",
   "metadata": {},
   "source": [
    "## Tweets Containing Geo Information"
   ]
  },
  {
   "cell_type": "code",
   "execution_count": null,
   "metadata": {},
   "outputs": [],
   "source": [
    "contain_geo_search = collection_reference.find({'geo' : { '$ne' : None}})\n",
    "contain_geo_search"
   ]
  },
  {
   "cell_type": "markdown",
   "metadata": {},
   "source": [
    "### DO NOT RUN THIS "
   ]
  },
  {
   "cell_type": "code",
   "execution_count": null,
   "metadata": {},
   "outputs": [],
   "source": [
    "# contain_geo_search.count()"
   ]
  },
  {
   "cell_type": "markdown",
   "metadata": {},
   "source": [
    "    318373"
   ]
  },
  {
   "cell_type": "markdown",
   "metadata": {},
   "source": [
    "## Distinct Users\n",
    "\n",
    "#### TRY THIS"
   ]
  },
  {
   "cell_type": "code",
   "execution_count": null,
   "metadata": {},
   "outputs": [],
   "source": [
    "collection_reference.distinct('user')"
   ]
  },
  {
   "cell_type": "code",
   "execution_count": null,
   "metadata": {},
   "outputs": [],
   "source": []
  }
 ],
 "metadata": {
  "kernelspec": {
   "display_name": "Python 3",
   "language": "python",
   "name": "python3"
  },
  "language_info": {
   "codemirror_mode": {
    "name": "ipython",
    "version": 3
   },
   "file_extension": ".py",
   "mimetype": "text/x-python",
   "name": "python",
   "nbconvert_exporter": "python",
   "pygments_lexer": "ipython3",
   "version": "3.6.4"
  }
 },
 "nbformat": 4,
 "nbformat_minor": 2
}
